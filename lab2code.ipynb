{
 "cells": [
  {
   "cell_type": "markdown",
   "metadata": {},
   "source": [
    "#  👑 PHYS1494 Sample Python Notebook 🐍"
   ]
  },
  {
   "cell_type": "markdown",
   "metadata": {},
   "source": [
    "    ## Aden Lam - Last Updated 17 Jan 2022 (Emily Tiberi)\n",
    "    \n",
    "In this sample notebook, I will go through the basics of Python that might be useful in the course. \n",
    "\n",
    "Disclaimer: This does not serve as a guide for an absolute beginner towards coding, but the rudimentary basics of what you would need to know in order to write data analysis code for your experiments in Python 3 and Juypter Notebook.\n",
    "\n",
    "I am assuming you have some rudimentary experience using coding software, and would refer you to the better written sources available online that covers:\n",
    "\n",
    "Documentation for Python 3 -- https://docs.python.org/3/tutorial/\n",
    "\n",
    "Documentation for Jupyter Notebook -- https://www.datacamp.com/community/tutorials/tutorial-jupyter-notebook\n",
    "\n",
    "I hope you find it useful!"
   ]
  },
  {
   "cell_type": "markdown",
   "metadata": {},
   "source": [
    "## The basics"
   ]
  },
  {
   "cell_type": "markdown",
   "metadata": {},
   "source": [
    "To run single blocks of code, press Shift + Enter to run while you have selected the block of code, or the \"Run\" button. If you would like to run the entire notebook, go to the top menu bar, and select \"Cell\" > \"Run All\" to do so.\n",
    "\n",
    "To refresh the memory, you will need to go to \"Kernel\" > \"Restart\".\n",
    "\n",
    "For now, press \"Run All\"."
   ]
  },
  {
   "cell_type": "markdown",
   "metadata": {},
   "source": [
    "### Importing Packages\n",
    "You will have to import the relevant package that you will use\n",
    "\n",
    "Usually you will need the following 2 libraries:\n",
    "\n",
    "> NumPy - Package that contains the scientific and mathematical functions\n",
    "\n",
    "> pyplot - Subpackage in matplotlib that contains functions to plot\n",
    "\n",
    "> csv -  Package that helps import, read and work with csv files\n",
    "\n",
    "> pandas -  Package that helps to work with datasets\n"
   ]
  },
  {
   "cell_type": "code",
   "execution_count": 1,
   "metadata": {},
   "outputs": [],
   "source": [
    "import numpy as np    # Note you can also import functions as abbreviations\n",
    "import matplotlib.pyplot as plt \n",
    "import csv\n",
    "import pandas as pd\n"
   ]
  },
  {
   "cell_type": "markdown",
   "metadata": {},
   "source": [
    "### Mathematical Functions"
   ]
  },
  {
   "cell_type": "markdown",
   "metadata": {},
   "source": [
    "You can call functions from the packages by typing PackageName.FunctionName(variable1, variable2, ...)\n",
    "\n",
    "All functions in Python have this format. The simplest example are ordinary mathematical functions. They take a number as input and give you the numerical result. For example:"
   ]
  },
  {
   "cell_type": "code",
   "execution_count": 2,
   "metadata": {},
   "outputs": [
    {
     "data": {
      "text/plain": [
       "0.09983341664682815"
      ]
     },
     "execution_count": 2,
     "metadata": {},
     "output_type": "execute_result"
    }
   ],
   "source": [
    "## \n",
    "np.sin(.1)"
   ]
  },
  {
   "cell_type": "code",
   "execution_count": 3,
   "metadata": {},
   "outputs": [
    {
     "data": {
      "text/plain": [
       "0.1353352832366127"
      ]
     },
     "execution_count": 3,
     "metadata": {},
     "output_type": "execute_result"
    }
   ],
   "source": [
    "np.exp(-2)"
   ]
  },
  {
   "cell_type": "markdown",
   "metadata": {},
   "source": [
    "If you want to define functions, say of an equation for your experiment like the half-life equation for radioactive decay\n",
    "https://wikimedia.org/api/rest_v1/media/math/render/svg/26927776582294591c8d1d4460fb7d035cd183f9"
   ]
  },
  {
   "cell_type": "code",
   "execution_count": 8,
   "metadata": {},
   "outputs": [
    {
     "name": "stdout",
     "output_type": "stream",
     "text": [
      "\n",
      "\n",
      " X_bar metal ball 1 = -1.9075\n",
      "x_stdmean metal ball 1 = x    0.073742\n",
      "dtype: float64\n",
      "z_bar metal ball 1 = 0.06999999999999999\n",
      "z_stdmean metal ball 1 = z    0.09035\n",
      "dtype: float64\n",
      "\n",
      "\n",
      " X_bar metal ball 2 = -0.5299999999999999\n",
      "x_stdmean metal ball 2 = x    0.050706\n",
      "dtype: float64\n",
      "z_bar metal ball 2 = 0.8174999999999999\n",
      "z_stdmean metal ball 2 = z    0.073742\n",
      "dtype: float64\n",
      "\n",
      "\n",
      " X_bar plastic ball 1 = -0.4\n",
      "x_stdmean plastic ball 1 = x    0.094242\n",
      "dtype: float64\n",
      "z_bar plastic ball 1 = -0.3075\n",
      "z_stdmean plastic ball 1 = z    0.101325\n",
      "dtype: float64\n",
      "\n",
      "\n",
      " X_bar plastic ball 2 = -5.3950000000000005\n",
      "x_stdmean plastic ball 2 = x    0.105749\n",
      "dtype: float64\n",
      "z_bar plastic ball 2 = 0.185\n",
      "z_stdmean plastic ball 2 = z    0.078397\n",
      "dtype: float64\n"
     ]
    }
   ],
   "source": [
    "def finalcount(t,lambdaa,N0):\n",
    "    \"\"\"This acts as documentation for the function to help yourself or another reader use the function. It is a good habit to comment your code.\n",
    "    Input arguments: \n",
    "    t       = time\n",
    "    lambdaa = decay rate of element\n",
    "    N0      = Initial number of atoms\n",
    "    Outputs: Final number of atoms after decay \"\"\"\n",
    "    return N0 * np.exp(-lambdaa*t)\n",
    "\n",
    "# Or another example\n",
    "def xsquared(x):\n",
    "    \"\"\"Squares whatever input value x you give\"\"\"\n",
    "    return x**2\n",
    "#print(np.std(a[:,1]))\n",
    "\n",
    "##\n",
    "##\n",
    "#xBarMetal1  = [-2, -1.5, -1.8, -1.8, -1.6, -2.2, -2.1, -2.85, -1.8, -1.7, -2.3, -2.2, -1.8, -1.4, -1.9, -2.15, -1.6, -1.85, -1.7, -01.9]\n",
    "#print(\"\\n X_bar metall ball 1 = \" + str(np.mean(xBarMetal1)))\n",
    "#print(\"x_stdv metall ball 1 = \" + str(np.std(xBarMetal1)))\n",
    "\n",
    "#zBarMetal1 = [-0.7, -0.4, 0, -0.4, -0.4, 0, -0.2, -0.5, 0, 0, 0.3, 0, .2, 0, .1, 0.2, 0.4, 0.5, 0.5, 0.5, 0.6, 0.7]\n",
    "#print(\"z_bar metall ball 1 = \" + str(np.mean(zBarMetal1)))\n",
    "#print(\"z_stdv metall ball 1 = \" + str(np.std(zBarMetal1)))\n",
    "##\n",
    "##\n",
    "\n",
    "\n",
    "print(\"\")\n",
    "##\n",
    "##\n",
    "mb1 = pd.read_csv(\"mb1.csv\")\n",
    "xBarMetal1 = mb1[\"x\"]\n",
    "semMb1x = pd.DataFrame(xBarMetal1).sem()\n",
    "\n",
    "zBarMetal1 = mb1[\"z\"]\n",
    "semMb1z = pd.DataFrame(zBarMetal1).sem()\n",
    "print(\"\\n X_bar metal ball 1 = \" + str(np.mean(xBarMetal1)))\n",
    "print(\"x_stdmean metal ball 1 = \" + str(semMb1x))\n",
    "\n",
    "print(\"z_bar metal ball 1 = \" + str(np.mean(zBarMetal1)))\n",
    "print(\"z_stdmean metal ball 1 = \" + str(semMb1z))\n",
    "\n",
    "##\n",
    "print('')\n",
    "\n",
    "mb2 = pd.read_csv(\"mb2.csv\")\n",
    "xBarMetal2 = mb2[\"x\"]\n",
    "semMb2x = pd.DataFrame(xBarMetal2).sem()\n",
    "\n",
    "zBarMetal2 = mb2[\"z\"]\n",
    "semMb2z = pd.DataFrame(zBarMetal2).sem()\n",
    "print(\"\\n X_bar metal ball 2 = \" + str(np.mean(xBarMetal2)))\n",
    "print(\"x_stdmean metal ball 2 = \" + str(semMb2x))\n",
    "\n",
    "print(\"z_bar metal ball 2 = \" + str(np.mean(zBarMetal2)))\n",
    "print(\"z_stdmean metal ball 2 = \" + str(semMb2z))\n",
    "\n",
    "\n",
    "\n",
    "print(\"\")\n",
    "##\n",
    "##\n",
    "pb1 = pd.read_csv(\"pb1.csv\")\n",
    "xBarPlastic1 = pb1[\"x\"]\n",
    "semPb1x = pd.DataFrame(xBarPlastic1).sem()\n",
    "\n",
    "zBarPlastic1 = pb1[\"z\"]\n",
    "semPb1z = pd.DataFrame(zBarPlastic1).sem()\n",
    "\n",
    "print(\"\\n X_bar plastic ball 1 = \" + str(np.mean(xBarPlastic1)))\n",
    "print(\"x_stdmean plastic ball 1 = \" + str(semPb1x))\n",
    "\n",
    "print(\"z_bar plastic ball 1 = \" + str(np.mean(zBarPlastic1)))\n",
    "print(\"z_stdmean plastic ball 1 = \" + str(semPb1z))\n",
    "\n",
    "\n",
    "print(\"\")\n",
    "##\n",
    "##\n",
    "pb2 = pd.read_csv(\"pb2.csv\")\n",
    "xBarPlastic2 = pb2[\"x\"]\n",
    "semPb2x = pd.DataFrame(xBarPlastic2).sem()\n",
    "\n",
    "zBarPlastic2 = pb2[\"z\"]\n",
    "semPb2z = pd.DataFrame(zBarPlastic2).sem()\n",
    "\n",
    "print(\"\\n X_bar plastic ball 2 = \" + str(np.mean(xBarPlastic2)))\n",
    "print(\"x_stdmean plastic ball 2 = \" + str(semPb2x))\n",
    "\n",
    "print(\"z_bar plastic ball 2 = \" + str(np.mean(zBarPlastic2)))\n",
    "print(\"z_stdmean plastic ball 2 = \" + str(semPb2z))\n",
    "\n",
    "\n",
    "\n",
    "#N = finalcount(60,10**-5,10**6)\n",
    "#print('')\n",
    "#print ('Final result using the function I wrote:',N)"
   ]
  },
  {
   "cell_type": "code",
   "execution_count": null,
   "metadata": {},
   "outputs": [],
   "source": []
  },
  {
   "cell_type": "markdown",
   "metadata": {},
   "source": [
    "## Array and Lists\n",
    "\n",
    "Often, you will not want to calculate individual data points, but by writing them into an array, you can operate on them all with one line of code.\n",
    "\n",
    "There are various operations you can do on them as well, like calling single elements, or a row of code."
   ]
  },
  {
   "cell_type": "code",
   "execution_count": null,
   "metadata": {},
   "outputs": [],
   "source": [
    "a = np.array([[1, 3.5, 4.5],[2,5.5,3]])\n",
    "\n",
    "print('My variable as has been saved as a -->', a)\n",
    "print('I can apply functions to this variable, like the exponential function to it: np.exp(a)) -->', np.exp(a)) # Applying exponential function to array\n",
    "\n",
    "## Calling elements in array\n",
    "print('Or I can extract single elements/components of this array: a[0,2] -->',a[0,2]) # Calling single element in array, first row, third column.\n",
    "print('Or even rows using commands: a[0,:] -->',a[0,:],'or a[0] -->',a[0]) # Calls the first row. Note that first is indexed as 0. If you want to call the last element, you can use -1.\n",
    "print('Or even columns using commands: a[:,0] -->',a[:,0]) # Calls the first row. Note that first is indexed as 0. If you want to call the last element, you can use -1.\n"
   ]
  },
  {
   "cell_type": "markdown",
   "metadata": {},
   "source": [
    "## Importing Data\n",
    "\n",
    "Lets say you ran your experiment in your group and saved your data in excel. How would you go about importing it to Python 3 so you can do your data analysis and plotting?\n",
    "\n",
    "First is to convert your file into .csv format, and move it into the same directory as the Juypter Notebook you are using for your analysis.\n",
    "\n",
    "For ease, make sure you have 'SampleDataset.csv' in the same directory as your jupyter notebook."
   ]
  },
  {
   "cell_type": "code",
   "execution_count": null,
   "metadata": {},
   "outputs": [],
   "source": [
    "# data = np.array(np.genfromtxt('SampleDataset.csv', delimiter='')) \n",
    "data = pandas.read_csv('SampleDataset.csv') # genfromtxt extracts data as a DataFrame, you will want to convert it into arrays for convenience.\n",
    "\n",
    "print('This is the data you have extracted from your .csv file:',data) # Note the data is in a DataFrame format currently\n",
    "\n",
    "data1 = data.values  # Extracts only the values of interest\n",
    "print('Because I want to perform numerical operations only in the columns, I need to take out the numbers in a list/array:',data1)\n",
    "print('Now it is in a 2D list.')"
   ]
  },
  {
   "cell_type": "code",
   "execution_count": null,
   "metadata": {},
   "outputs": [],
   "source": [
    "data = np.transpose(data1)  # If you just want the array which contains all x data points, and y data points\n",
    "print('This is the 2D array of x and y data values:',data,'\\n To get the x and y values you will have to break them up.')\n",
    "\n",
    "xdata = np.array(data[0])\n",
    "print('This is the array of x data values:', xdata)\n",
    "\n",
    "ydata = np.array(data[1])\n",
    "print('This is the array of y data values:', ydata)\n"
   ]
  },
  {
   "cell_type": "markdown",
   "metadata": {},
   "source": [
    "## Plotting functions\n",
    "\n",
    "Now lets say we want to plot some function"
   ]
  },
  {
   "cell_type": "code",
   "execution_count": null,
   "metadata": {},
   "outputs": [],
   "source": [
    "## For the purpose of this notebook, if you can't use the import function, you can remove the comment below to run the code\n",
    "# data = [[0.1,0.2,0.3,0.4,0.5,0.6,0.7,0.8,0.9],[2.,2.,0.,-4.,-10.,-18.,-28.,-40.,-54.]]\n",
    "\n",
    "# Separating into x and y lists, and converting to arrays\n",
    "xdata = np.array(data[0])\n",
    "ydata = np.array(data[1])\n",
    "\n",
    "print(xdata)\n",
    "print(ydata)\n",
    "\n",
    "ydata = xsquared(ydata)\n",
    "\n",
    "print(ydata) # List is now squared as defined by the function\n",
    "\n",
    "## Plotting\n",
    "plt.plot(xdata,ydata)\n",
    "plt.show()"
   ]
  },
  {
   "cell_type": "markdown",
   "metadata": {},
   "source": [
    "## Making the plot look nicer and including error bars"
   ]
  },
  {
   "cell_type": "code",
   "execution_count": null,
   "metadata": {},
   "outputs": [],
   "source": [
    "yerror = [10,20,30,40,50,60,70,80,100]\n",
    "\n",
    "# Sets plot size \n",
    "plt.figure(figsize=(10,10))\n",
    "\n",
    "# Using different function, and defining marker and error bar colors, size etc..\n",
    "plt.errorbar(xdata, ydata, yerror, marker='x', ecolor='black',mec='red', linestyle='None',ms=4, mew=4) \n",
    "\n",
    "# Labels axis\n",
    "plt.xlabel('xaxisname (m)')\n",
    "plt.ylabel('yaxisname (m$s^{-1}$)')\n",
    "\n",
    "plt.title('My title')\n",
    "plt.show()\n",
    "## The customization options are only limited by your imagination"
   ]
  },
  {
   "cell_type": "markdown",
   "metadata": {},
   "source": [
    "## Least Squares Fit\n",
    "\n",
    "Now to the core of data analysis. The Least Squares Fit function is done by the scipy.optimization.curve_fit function.\n",
    "\n",
    "Suppose we want to fit 'xdata' and 'ydata' with weights given by 'yerror' and we want to use a quadratic function. You can do that in the following way:"
   ]
  },
  {
   "cell_type": "code",
   "execution_count": null,
   "metadata": {},
   "outputs": [],
   "source": [
    "# Generating sample data\n",
    "xdata = np.array([0.0,1.0,2.0,3.0,4.0,5.0])\n",
    "ydata = np.array([0.1,0.9,2.2,2.8,3.9,5.1])\n",
    "yerror= np.array([1.0,1.0,1.0,1.0,1.0,1.0])\n",
    "\n",
    "# Initial Guess \n",
    "x0 = np.array([0.0, 0.0, 0.0])\n",
    "\n",
    "# Define quadratic function for fitting,\n",
    "def func(x, a, b, c):\n",
    "    return a + b*x + c*x**2\n",
    "\n",
    "import scipy.optimize as opt\n",
    "pars, w = opt.curve_fit(func, xdata, ydata, x0, yerror) # Note the arguments you need\n",
    "\n",
    "print(\"Estimated parameters\", pars)"
   ]
  },
  {
   "cell_type": "markdown",
   "metadata": {},
   "source": [
    "It is always a good habit to superimpose your fit over your original data points."
   ]
  },
  {
   "cell_type": "code",
   "execution_count": null,
   "metadata": {},
   "outputs": [],
   "source": [
    "# Model Fit\n",
    "yfit = func(xdata,*pars)\n",
    "\n",
    "plt.figure(figsize=(8,5))\n",
    "plt.errorbar(xdata, ydata, yerror, marker='x', ecolor='black',mec='red', linestyle='None',ms=4, mew=4, label=\"Data\")\n",
    "plt.plot(xdata,yfit,label=\"Fit\")\n",
    "plt.xlabel('xaxisname (m)')\n",
    "plt.ylabel('yaxisname (m$s^{-1}$)')\n",
    "plt.legend(loc='best')\n",
    "\n",
    "plt.title('My title')\n",
    "\n",
    "## The customization options are only limited by your imagination"
   ]
  },
  {
   "cell_type": "markdown",
   "metadata": {},
   "source": [
    "Disclaimer: The methods I have demonstrated above are an example of one of the ways you can go about all these operations, but they are not exhaustive. Should you find an alternative method, feel free to use it! Learning scientific programming is not a science but an art.\n",
    "\n",
    "Many problems that you will encounter have been solved before, a good resource you should consider asking is stackoverflow.com and google."
   ]
  },
  {
   "cell_type": "code",
   "execution_count": null,
   "metadata": {},
   "outputs": [],
   "source": []
  }
 ],
 "metadata": {
  "kernelspec": {
   "display_name": "Python 3",
   "language": "python",
   "name": "python3"
  },
  "language_info": {
   "codemirror_mode": {
    "name": "ipython",
    "version": 3
   },
   "file_extension": ".py",
   "mimetype": "text/x-python",
   "name": "python",
   "nbconvert_exporter": "python",
   "pygments_lexer": "ipython3",
   "version": "3.8.3"
  }
 },
 "nbformat": 4,
 "nbformat_minor": 2
}
