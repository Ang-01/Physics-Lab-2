{
 "cells": [
  {
   "cell_type": "markdown",
   "metadata": {},
   "source": [
    "#  👑 PHYS1494 Sample Python Notebook 🐍"
   ]
  },
  {
   "cell_type": "markdown",
   "metadata": {},
   "source": [
    "    ## Aden Lam - Last Updated 17 Jan 2022 (Emily Tiberi)\n",
    "    \n",
    "In this sample notebook, I will go through the basics of Python that might be useful in the course. \n",
    "\n",
    "Disclaimer: This does not serve as a guide for an absolute beginner towards coding, but the rudimentary basics of what you would need to know in order to write data analysis code for your experiments in Python 3 and Juypter Notebook.\n",
    "\n",
    "I am assuming you have some rudimentary experience using coding software, and would refer you to the better written sources available online that covers:\n",
    "\n",
    "Documentation for Python 3 -- https://docs.python.org/3/tutorial/\n",
    "\n",
    "Documentation for Jupyter Notebook -- https://www.datacamp.com/community/tutorials/tutorial-jupyter-notebook\n",
    "\n",
    "I hope you find it useful!"
   ]
  },
  {
   "cell_type": "markdown",
   "metadata": {},
   "source": [
    "## The basics"
   ]
  },
  {
   "cell_type": "markdown",
   "metadata": {},
   "source": [
    "To run single blocks of code, press Shift + Enter to run while you have selected the block of code, or the \"Run\" button. If you would like to run the entire notebook, go to the top menu bar, and select \"Cell\" > \"Run All\" to do so.\n",
    "\n",
    "To refresh the memory, you will need to go to \"Kernel\" > \"Restart\".\n",
    "\n",
    "For now, press \"Run All\"."
   ]
  },
  {
   "cell_type": "markdown",
   "metadata": {},
   "source": [
    "### Importing Packages\n",
    "You will have to import the relevant package that you will use\n",
    "\n",
    "Usually you will need the following 2 libraries:\n",
    "\n",
    "> NumPy - Package that contains the scientific and mathematical functions\n",
    "\n",
    "> pyplot - Subpackage in matplotlib that contains functions to plot\n",
    "\n",
    "> csv -  Package that helps import, read and work with csv files\n",
    "\n",
    "> pandas -  Package that helps to work with datasets\n"
   ]
  },
  {
   "cell_type": "code",
   "execution_count": 5,
   "metadata": {},
   "outputs": [],
   "source": [
    "import numpy as np    # Note you can also import functions as abbreviations\n",
    "import matplotlib.pyplot as plt \n",
    "import csv\n",
    "import pandas as pd\n"
   ]
  },
  {
   "cell_type": "markdown",
   "metadata": {},
   "source": [
    "### Mathematical Functions"
   ]
  },
  {
   "cell_type": "markdown",
   "metadata": {},
   "source": [
    "You can call functions from the packages by typing PackageName.FunctionName(variable1, variable2, ...)\n",
    "\n",
    "All functions in Python have this format. The simplest example are ordinary mathematical functions. They take a number as input and give you the numerical result. For example:"
   ]
  },
  {
   "cell_type": "code",
   "execution_count": 6,
   "metadata": {},
   "outputs": [
    {
     "data": {
      "text/plain": [
       "0.09983341664682815"
      ]
     },
     "execution_count": 6,
     "metadata": {},
     "output_type": "execute_result"
    }
   ],
   "source": [
    "## \n",
    "np.sin(.1)"
   ]
  },
  {
   "cell_type": "code",
   "execution_count": 7,
   "metadata": {},
   "outputs": [
    {
     "data": {
      "text/plain": [
       "0.1353352832366127"
      ]
     },
     "execution_count": 7,
     "metadata": {},
     "output_type": "execute_result"
    }
   ],
   "source": [
    "np.exp(-2)"
   ]
  },
  {
   "cell_type": "markdown",
   "metadata": {},
   "source": [
    "If you want to define functions, say of an equation for your experiment like the half-life equation for radioactive decay\n",
    "https://wikimedia.org/api/rest_v1/media/math/render/svg/26927776582294591c8d1d4460fb7d035cd183f9"
   ]
  },
  {
   "cell_type": "code",
   "execution_count": 8,
   "metadata": {},
   "outputs": [
    {
     "name": "stdout",
     "output_type": "stream",
     "text": [
      "\n"
     ]
    },
    {
     "ename": "FileNotFoundError",
     "evalue": "[Errno 2] No such file or directory: 'mb1.csv'",
     "output_type": "error",
     "traceback": [
      "\u001b[1;31m---------------------------------------------------------------------------\u001b[0m",
      "\u001b[1;31mFileNotFoundError\u001b[0m                         Traceback (most recent call last)",
      "\u001b[1;32m\\Ang-01\\Physics-Lab-2\\lab2code.ipynb Cell 12'\u001b[0m in \u001b[0;36m<module>\u001b[1;34m\u001b[0m\n\u001b[0;32m     <a href='vscode-notebook-cell://github/Ang-01/Physics-Lab-2/lab2code.ipynb#ch0000011vscode-vfs?line=28'>29</a>\u001b[0m \u001b[39mprint\u001b[39m(\u001b[39m\"\u001b[39m\u001b[39m\"\u001b[39m)\n\u001b[0;32m     <a href='vscode-notebook-cell://github/Ang-01/Physics-Lab-2/lab2code.ipynb#ch0000011vscode-vfs?line=29'>30</a>\u001b[0m \u001b[39m##\u001b[39;00m\n\u001b[0;32m     <a href='vscode-notebook-cell://github/Ang-01/Physics-Lab-2/lab2code.ipynb#ch0000011vscode-vfs?line=30'>31</a>\u001b[0m \u001b[39m##\u001b[39;00m\n\u001b[1;32m---> <a href='vscode-notebook-cell://github/Ang-01/Physics-Lab-2/lab2code.ipynb#ch0000011vscode-vfs?line=31'>32</a>\u001b[0m mb1 \u001b[39m=\u001b[39m pd\u001b[39m.\u001b[39;49mread_csv(\u001b[39m\"\u001b[39;49m\u001b[39mmb1.csv\u001b[39;49m\u001b[39m\"\u001b[39;49m)\n\u001b[0;32m     <a href='vscode-notebook-cell://github/Ang-01/Physics-Lab-2/lab2code.ipynb#ch0000011vscode-vfs?line=32'>33</a>\u001b[0m xBarMetal1 \u001b[39m=\u001b[39m mb1[\u001b[39m\"\u001b[39m\u001b[39mx\u001b[39m\u001b[39m\"\u001b[39m]\n\u001b[0;32m     <a href='vscode-notebook-cell://github/Ang-01/Physics-Lab-2/lab2code.ipynb#ch0000011vscode-vfs?line=33'>34</a>\u001b[0m semMb1x \u001b[39m=\u001b[39m pd\u001b[39m.\u001b[39mDataFrame(xBarMetal1)\u001b[39m.\u001b[39msem()\n",
      "File \u001b[1;32m~\\AppData\\Local\\Packages\\PythonSoftwareFoundation.Python.3.9_qbz5n2kfra8p0\\LocalCache\\local-packages\\Python39\\site-packages\\pandas\\util\\_decorators.py:311\u001b[0m, in \u001b[0;36mdeprecate_nonkeyword_arguments.<locals>.decorate.<locals>.wrapper\u001b[1;34m(*args, **kwargs)\u001b[0m\n\u001b[0;32m    <a href='file:///~/AppData/Local/Packages/PythonSoftwareFoundation.Python.3.9_qbz5n2kfra8p0/LocalCache/local-packages/Python39/site-packages/pandas/util/_decorators.py?line=304'>305</a>\u001b[0m \u001b[39mif\u001b[39;00m \u001b[39mlen\u001b[39m(args) \u001b[39m>\u001b[39m num_allow_args:\n\u001b[0;32m    <a href='file:///~/AppData/Local/Packages/PythonSoftwareFoundation.Python.3.9_qbz5n2kfra8p0/LocalCache/local-packages/Python39/site-packages/pandas/util/_decorators.py?line=305'>306</a>\u001b[0m     warnings\u001b[39m.\u001b[39mwarn(\n\u001b[0;32m    <a href='file:///~/AppData/Local/Packages/PythonSoftwareFoundation.Python.3.9_qbz5n2kfra8p0/LocalCache/local-packages/Python39/site-packages/pandas/util/_decorators.py?line=306'>307</a>\u001b[0m         msg\u001b[39m.\u001b[39mformat(arguments\u001b[39m=\u001b[39marguments),\n\u001b[0;32m    <a href='file:///~/AppData/Local/Packages/PythonSoftwareFoundation.Python.3.9_qbz5n2kfra8p0/LocalCache/local-packages/Python39/site-packages/pandas/util/_decorators.py?line=307'>308</a>\u001b[0m         \u001b[39mFutureWarning\u001b[39;00m,\n\u001b[0;32m    <a href='file:///~/AppData/Local/Packages/PythonSoftwareFoundation.Python.3.9_qbz5n2kfra8p0/LocalCache/local-packages/Python39/site-packages/pandas/util/_decorators.py?line=308'>309</a>\u001b[0m         stacklevel\u001b[39m=\u001b[39mstacklevel,\n\u001b[0;32m    <a href='file:///~/AppData/Local/Packages/PythonSoftwareFoundation.Python.3.9_qbz5n2kfra8p0/LocalCache/local-packages/Python39/site-packages/pandas/util/_decorators.py?line=309'>310</a>\u001b[0m     )\n\u001b[1;32m--> <a href='file:///~/AppData/Local/Packages/PythonSoftwareFoundation.Python.3.9_qbz5n2kfra8p0/LocalCache/local-packages/Python39/site-packages/pandas/util/_decorators.py?line=310'>311</a>\u001b[0m \u001b[39mreturn\u001b[39;00m func(\u001b[39m*\u001b[39margs, \u001b[39m*\u001b[39m\u001b[39m*\u001b[39mkwargs)\n",
      "File \u001b[1;32m~\\AppData\\Local\\Packages\\PythonSoftwareFoundation.Python.3.9_qbz5n2kfra8p0\\LocalCache\\local-packages\\Python39\\site-packages\\pandas\\io\\parsers\\readers.py:680\u001b[0m, in \u001b[0;36mread_csv\u001b[1;34m(filepath_or_buffer, sep, delimiter, header, names, index_col, usecols, squeeze, prefix, mangle_dupe_cols, dtype, engine, converters, true_values, false_values, skipinitialspace, skiprows, skipfooter, nrows, na_values, keep_default_na, na_filter, verbose, skip_blank_lines, parse_dates, infer_datetime_format, keep_date_col, date_parser, dayfirst, cache_dates, iterator, chunksize, compression, thousands, decimal, lineterminator, quotechar, quoting, doublequote, escapechar, comment, encoding, encoding_errors, dialect, error_bad_lines, warn_bad_lines, on_bad_lines, delim_whitespace, low_memory, memory_map, float_precision, storage_options)\u001b[0m\n\u001b[0;32m    <a href='file:///~/AppData/Local/Packages/PythonSoftwareFoundation.Python.3.9_qbz5n2kfra8p0/LocalCache/local-packages/Python39/site-packages/pandas/io/parsers/readers.py?line=664'>665</a>\u001b[0m kwds_defaults \u001b[39m=\u001b[39m _refine_defaults_read(\n\u001b[0;32m    <a href='file:///~/AppData/Local/Packages/PythonSoftwareFoundation.Python.3.9_qbz5n2kfra8p0/LocalCache/local-packages/Python39/site-packages/pandas/io/parsers/readers.py?line=665'>666</a>\u001b[0m     dialect,\n\u001b[0;32m    <a href='file:///~/AppData/Local/Packages/PythonSoftwareFoundation.Python.3.9_qbz5n2kfra8p0/LocalCache/local-packages/Python39/site-packages/pandas/io/parsers/readers.py?line=666'>667</a>\u001b[0m     delimiter,\n\u001b[1;32m   (...)\u001b[0m\n\u001b[0;32m    <a href='file:///~/AppData/Local/Packages/PythonSoftwareFoundation.Python.3.9_qbz5n2kfra8p0/LocalCache/local-packages/Python39/site-packages/pandas/io/parsers/readers.py?line=675'>676</a>\u001b[0m     defaults\u001b[39m=\u001b[39m{\u001b[39m\"\u001b[39m\u001b[39mdelimiter\u001b[39m\u001b[39m\"\u001b[39m: \u001b[39m\"\u001b[39m\u001b[39m,\u001b[39m\u001b[39m\"\u001b[39m},\n\u001b[0;32m    <a href='file:///~/AppData/Local/Packages/PythonSoftwareFoundation.Python.3.9_qbz5n2kfra8p0/LocalCache/local-packages/Python39/site-packages/pandas/io/parsers/readers.py?line=676'>677</a>\u001b[0m )\n\u001b[0;32m    <a href='file:///~/AppData/Local/Packages/PythonSoftwareFoundation.Python.3.9_qbz5n2kfra8p0/LocalCache/local-packages/Python39/site-packages/pandas/io/parsers/readers.py?line=677'>678</a>\u001b[0m kwds\u001b[39m.\u001b[39mupdate(kwds_defaults)\n\u001b[1;32m--> <a href='file:///~/AppData/Local/Packages/PythonSoftwareFoundation.Python.3.9_qbz5n2kfra8p0/LocalCache/local-packages/Python39/site-packages/pandas/io/parsers/readers.py?line=679'>680</a>\u001b[0m \u001b[39mreturn\u001b[39;00m _read(filepath_or_buffer, kwds)\n",
      "File \u001b[1;32m~\\AppData\\Local\\Packages\\PythonSoftwareFoundation.Python.3.9_qbz5n2kfra8p0\\LocalCache\\local-packages\\Python39\\site-packages\\pandas\\io\\parsers\\readers.py:575\u001b[0m, in \u001b[0;36m_read\u001b[1;34m(filepath_or_buffer, kwds)\u001b[0m\n\u001b[0;32m    <a href='file:///~/AppData/Local/Packages/PythonSoftwareFoundation.Python.3.9_qbz5n2kfra8p0/LocalCache/local-packages/Python39/site-packages/pandas/io/parsers/readers.py?line=571'>572</a>\u001b[0m _validate_names(kwds\u001b[39m.\u001b[39mget(\u001b[39m\"\u001b[39m\u001b[39mnames\u001b[39m\u001b[39m\"\u001b[39m, \u001b[39mNone\u001b[39;00m))\n\u001b[0;32m    <a href='file:///~/AppData/Local/Packages/PythonSoftwareFoundation.Python.3.9_qbz5n2kfra8p0/LocalCache/local-packages/Python39/site-packages/pandas/io/parsers/readers.py?line=573'>574</a>\u001b[0m \u001b[39m# Create the parser.\u001b[39;00m\n\u001b[1;32m--> <a href='file:///~/AppData/Local/Packages/PythonSoftwareFoundation.Python.3.9_qbz5n2kfra8p0/LocalCache/local-packages/Python39/site-packages/pandas/io/parsers/readers.py?line=574'>575</a>\u001b[0m parser \u001b[39m=\u001b[39m TextFileReader(filepath_or_buffer, \u001b[39m*\u001b[39m\u001b[39m*\u001b[39mkwds)\n\u001b[0;32m    <a href='file:///~/AppData/Local/Packages/PythonSoftwareFoundation.Python.3.9_qbz5n2kfra8p0/LocalCache/local-packages/Python39/site-packages/pandas/io/parsers/readers.py?line=576'>577</a>\u001b[0m \u001b[39mif\u001b[39;00m chunksize \u001b[39mor\u001b[39;00m iterator:\n\u001b[0;32m    <a href='file:///~/AppData/Local/Packages/PythonSoftwareFoundation.Python.3.9_qbz5n2kfra8p0/LocalCache/local-packages/Python39/site-packages/pandas/io/parsers/readers.py?line=577'>578</a>\u001b[0m     \u001b[39mreturn\u001b[39;00m parser\n",
      "File \u001b[1;32m~\\AppData\\Local\\Packages\\PythonSoftwareFoundation.Python.3.9_qbz5n2kfra8p0\\LocalCache\\local-packages\\Python39\\site-packages\\pandas\\io\\parsers\\readers.py:933\u001b[0m, in \u001b[0;36mTextFileReader.__init__\u001b[1;34m(self, f, engine, **kwds)\u001b[0m\n\u001b[0;32m    <a href='file:///~/AppData/Local/Packages/PythonSoftwareFoundation.Python.3.9_qbz5n2kfra8p0/LocalCache/local-packages/Python39/site-packages/pandas/io/parsers/readers.py?line=929'>930</a>\u001b[0m     \u001b[39mself\u001b[39m\u001b[39m.\u001b[39moptions[\u001b[39m\"\u001b[39m\u001b[39mhas_index_names\u001b[39m\u001b[39m\"\u001b[39m] \u001b[39m=\u001b[39m kwds[\u001b[39m\"\u001b[39m\u001b[39mhas_index_names\u001b[39m\u001b[39m\"\u001b[39m]\n\u001b[0;32m    <a href='file:///~/AppData/Local/Packages/PythonSoftwareFoundation.Python.3.9_qbz5n2kfra8p0/LocalCache/local-packages/Python39/site-packages/pandas/io/parsers/readers.py?line=931'>932</a>\u001b[0m \u001b[39mself\u001b[39m\u001b[39m.\u001b[39mhandles: IOHandles \u001b[39m|\u001b[39m \u001b[39mNone\u001b[39;00m \u001b[39m=\u001b[39m \u001b[39mNone\u001b[39;00m\n\u001b[1;32m--> <a href='file:///~/AppData/Local/Packages/PythonSoftwareFoundation.Python.3.9_qbz5n2kfra8p0/LocalCache/local-packages/Python39/site-packages/pandas/io/parsers/readers.py?line=932'>933</a>\u001b[0m \u001b[39mself\u001b[39m\u001b[39m.\u001b[39m_engine \u001b[39m=\u001b[39m \u001b[39mself\u001b[39;49m\u001b[39m.\u001b[39;49m_make_engine(f, \u001b[39mself\u001b[39;49m\u001b[39m.\u001b[39;49mengine)\n",
      "File \u001b[1;32m~\\AppData\\Local\\Packages\\PythonSoftwareFoundation.Python.3.9_qbz5n2kfra8p0\\LocalCache\\local-packages\\Python39\\site-packages\\pandas\\io\\parsers\\readers.py:1217\u001b[0m, in \u001b[0;36mTextFileReader._make_engine\u001b[1;34m(self, f, engine)\u001b[0m\n\u001b[0;32m   <a href='file:///~/AppData/Local/Packages/PythonSoftwareFoundation.Python.3.9_qbz5n2kfra8p0/LocalCache/local-packages/Python39/site-packages/pandas/io/parsers/readers.py?line=1212'>1213</a>\u001b[0m     mode \u001b[39m=\u001b[39m \u001b[39m\"\u001b[39m\u001b[39mrb\u001b[39m\u001b[39m\"\u001b[39m\n\u001b[0;32m   <a href='file:///~/AppData/Local/Packages/PythonSoftwareFoundation.Python.3.9_qbz5n2kfra8p0/LocalCache/local-packages/Python39/site-packages/pandas/io/parsers/readers.py?line=1213'>1214</a>\u001b[0m \u001b[39m# error: No overload variant of \"get_handle\" matches argument types\u001b[39;00m\n\u001b[0;32m   <a href='file:///~/AppData/Local/Packages/PythonSoftwareFoundation.Python.3.9_qbz5n2kfra8p0/LocalCache/local-packages/Python39/site-packages/pandas/io/parsers/readers.py?line=1214'>1215</a>\u001b[0m \u001b[39m# \"Union[str, PathLike[str], ReadCsvBuffer[bytes], ReadCsvBuffer[str]]\"\u001b[39;00m\n\u001b[0;32m   <a href='file:///~/AppData/Local/Packages/PythonSoftwareFoundation.Python.3.9_qbz5n2kfra8p0/LocalCache/local-packages/Python39/site-packages/pandas/io/parsers/readers.py?line=1215'>1216</a>\u001b[0m \u001b[39m# , \"str\", \"bool\", \"Any\", \"Any\", \"Any\", \"Any\", \"Any\"\u001b[39;00m\n\u001b[1;32m-> <a href='file:///~/AppData/Local/Packages/PythonSoftwareFoundation.Python.3.9_qbz5n2kfra8p0/LocalCache/local-packages/Python39/site-packages/pandas/io/parsers/readers.py?line=1216'>1217</a>\u001b[0m \u001b[39mself\u001b[39m\u001b[39m.\u001b[39mhandles \u001b[39m=\u001b[39m get_handle(  \u001b[39m# type: ignore[call-overload]\u001b[39;49;00m\n\u001b[0;32m   <a href='file:///~/AppData/Local/Packages/PythonSoftwareFoundation.Python.3.9_qbz5n2kfra8p0/LocalCache/local-packages/Python39/site-packages/pandas/io/parsers/readers.py?line=1217'>1218</a>\u001b[0m     f,\n\u001b[0;32m   <a href='file:///~/AppData/Local/Packages/PythonSoftwareFoundation.Python.3.9_qbz5n2kfra8p0/LocalCache/local-packages/Python39/site-packages/pandas/io/parsers/readers.py?line=1218'>1219</a>\u001b[0m     mode,\n\u001b[0;32m   <a href='file:///~/AppData/Local/Packages/PythonSoftwareFoundation.Python.3.9_qbz5n2kfra8p0/LocalCache/local-packages/Python39/site-packages/pandas/io/parsers/readers.py?line=1219'>1220</a>\u001b[0m     encoding\u001b[39m=\u001b[39;49m\u001b[39mself\u001b[39;49m\u001b[39m.\u001b[39;49moptions\u001b[39m.\u001b[39;49mget(\u001b[39m\"\u001b[39;49m\u001b[39mencoding\u001b[39;49m\u001b[39m\"\u001b[39;49m, \u001b[39mNone\u001b[39;49;00m),\n\u001b[0;32m   <a href='file:///~/AppData/Local/Packages/PythonSoftwareFoundation.Python.3.9_qbz5n2kfra8p0/LocalCache/local-packages/Python39/site-packages/pandas/io/parsers/readers.py?line=1220'>1221</a>\u001b[0m     compression\u001b[39m=\u001b[39;49m\u001b[39mself\u001b[39;49m\u001b[39m.\u001b[39;49moptions\u001b[39m.\u001b[39;49mget(\u001b[39m\"\u001b[39;49m\u001b[39mcompression\u001b[39;49m\u001b[39m\"\u001b[39;49m, \u001b[39mNone\u001b[39;49;00m),\n\u001b[0;32m   <a href='file:///~/AppData/Local/Packages/PythonSoftwareFoundation.Python.3.9_qbz5n2kfra8p0/LocalCache/local-packages/Python39/site-packages/pandas/io/parsers/readers.py?line=1221'>1222</a>\u001b[0m     memory_map\u001b[39m=\u001b[39;49m\u001b[39mself\u001b[39;49m\u001b[39m.\u001b[39;49moptions\u001b[39m.\u001b[39;49mget(\u001b[39m\"\u001b[39;49m\u001b[39mmemory_map\u001b[39;49m\u001b[39m\"\u001b[39;49m, \u001b[39mFalse\u001b[39;49;00m),\n\u001b[0;32m   <a href='file:///~/AppData/Local/Packages/PythonSoftwareFoundation.Python.3.9_qbz5n2kfra8p0/LocalCache/local-packages/Python39/site-packages/pandas/io/parsers/readers.py?line=1222'>1223</a>\u001b[0m     is_text\u001b[39m=\u001b[39;49mis_text,\n\u001b[0;32m   <a href='file:///~/AppData/Local/Packages/PythonSoftwareFoundation.Python.3.9_qbz5n2kfra8p0/LocalCache/local-packages/Python39/site-packages/pandas/io/parsers/readers.py?line=1223'>1224</a>\u001b[0m     errors\u001b[39m=\u001b[39;49m\u001b[39mself\u001b[39;49m\u001b[39m.\u001b[39;49moptions\u001b[39m.\u001b[39;49mget(\u001b[39m\"\u001b[39;49m\u001b[39mencoding_errors\u001b[39;49m\u001b[39m\"\u001b[39;49m, \u001b[39m\"\u001b[39;49m\u001b[39mstrict\u001b[39;49m\u001b[39m\"\u001b[39;49m),\n\u001b[0;32m   <a href='file:///~/AppData/Local/Packages/PythonSoftwareFoundation.Python.3.9_qbz5n2kfra8p0/LocalCache/local-packages/Python39/site-packages/pandas/io/parsers/readers.py?line=1224'>1225</a>\u001b[0m     storage_options\u001b[39m=\u001b[39;49m\u001b[39mself\u001b[39;49m\u001b[39m.\u001b[39;49moptions\u001b[39m.\u001b[39;49mget(\u001b[39m\"\u001b[39;49m\u001b[39mstorage_options\u001b[39;49m\u001b[39m\"\u001b[39;49m, \u001b[39mNone\u001b[39;49;00m),\n\u001b[0;32m   <a href='file:///~/AppData/Local/Packages/PythonSoftwareFoundation.Python.3.9_qbz5n2kfra8p0/LocalCache/local-packages/Python39/site-packages/pandas/io/parsers/readers.py?line=1225'>1226</a>\u001b[0m )\n\u001b[0;32m   <a href='file:///~/AppData/Local/Packages/PythonSoftwareFoundation.Python.3.9_qbz5n2kfra8p0/LocalCache/local-packages/Python39/site-packages/pandas/io/parsers/readers.py?line=1226'>1227</a>\u001b[0m \u001b[39massert\u001b[39;00m \u001b[39mself\u001b[39m\u001b[39m.\u001b[39mhandles \u001b[39mis\u001b[39;00m \u001b[39mnot\u001b[39;00m \u001b[39mNone\u001b[39;00m\n\u001b[0;32m   <a href='file:///~/AppData/Local/Packages/PythonSoftwareFoundation.Python.3.9_qbz5n2kfra8p0/LocalCache/local-packages/Python39/site-packages/pandas/io/parsers/readers.py?line=1227'>1228</a>\u001b[0m f \u001b[39m=\u001b[39m \u001b[39mself\u001b[39m\u001b[39m.\u001b[39mhandles\u001b[39m.\u001b[39mhandle\n",
      "File \u001b[1;32m~\\AppData\\Local\\Packages\\PythonSoftwareFoundation.Python.3.9_qbz5n2kfra8p0\\LocalCache\\local-packages\\Python39\\site-packages\\pandas\\io\\common.py:789\u001b[0m, in \u001b[0;36mget_handle\u001b[1;34m(path_or_buf, mode, encoding, compression, memory_map, is_text, errors, storage_options)\u001b[0m\n\u001b[0;32m    <a href='file:///~/AppData/Local/Packages/PythonSoftwareFoundation.Python.3.9_qbz5n2kfra8p0/LocalCache/local-packages/Python39/site-packages/pandas/io/common.py?line=783'>784</a>\u001b[0m \u001b[39melif\u001b[39;00m \u001b[39misinstance\u001b[39m(handle, \u001b[39mstr\u001b[39m):\n\u001b[0;32m    <a href='file:///~/AppData/Local/Packages/PythonSoftwareFoundation.Python.3.9_qbz5n2kfra8p0/LocalCache/local-packages/Python39/site-packages/pandas/io/common.py?line=784'>785</a>\u001b[0m     \u001b[39m# Check whether the filename is to be opened in binary mode.\u001b[39;00m\n\u001b[0;32m    <a href='file:///~/AppData/Local/Packages/PythonSoftwareFoundation.Python.3.9_qbz5n2kfra8p0/LocalCache/local-packages/Python39/site-packages/pandas/io/common.py?line=785'>786</a>\u001b[0m     \u001b[39m# Binary mode does not support 'encoding' and 'newline'.\u001b[39;00m\n\u001b[0;32m    <a href='file:///~/AppData/Local/Packages/PythonSoftwareFoundation.Python.3.9_qbz5n2kfra8p0/LocalCache/local-packages/Python39/site-packages/pandas/io/common.py?line=786'>787</a>\u001b[0m     \u001b[39mif\u001b[39;00m ioargs\u001b[39m.\u001b[39mencoding \u001b[39mand\u001b[39;00m \u001b[39m\"\u001b[39m\u001b[39mb\u001b[39m\u001b[39m\"\u001b[39m \u001b[39mnot\u001b[39;00m \u001b[39min\u001b[39;00m ioargs\u001b[39m.\u001b[39mmode:\n\u001b[0;32m    <a href='file:///~/AppData/Local/Packages/PythonSoftwareFoundation.Python.3.9_qbz5n2kfra8p0/LocalCache/local-packages/Python39/site-packages/pandas/io/common.py?line=787'>788</a>\u001b[0m         \u001b[39m# Encoding\u001b[39;00m\n\u001b[1;32m--> <a href='file:///~/AppData/Local/Packages/PythonSoftwareFoundation.Python.3.9_qbz5n2kfra8p0/LocalCache/local-packages/Python39/site-packages/pandas/io/common.py?line=788'>789</a>\u001b[0m         handle \u001b[39m=\u001b[39m \u001b[39mopen\u001b[39;49m(\n\u001b[0;32m    <a href='file:///~/AppData/Local/Packages/PythonSoftwareFoundation.Python.3.9_qbz5n2kfra8p0/LocalCache/local-packages/Python39/site-packages/pandas/io/common.py?line=789'>790</a>\u001b[0m             handle,\n\u001b[0;32m    <a href='file:///~/AppData/Local/Packages/PythonSoftwareFoundation.Python.3.9_qbz5n2kfra8p0/LocalCache/local-packages/Python39/site-packages/pandas/io/common.py?line=790'>791</a>\u001b[0m             ioargs\u001b[39m.\u001b[39;49mmode,\n\u001b[0;32m    <a href='file:///~/AppData/Local/Packages/PythonSoftwareFoundation.Python.3.9_qbz5n2kfra8p0/LocalCache/local-packages/Python39/site-packages/pandas/io/common.py?line=791'>792</a>\u001b[0m             encoding\u001b[39m=\u001b[39;49mioargs\u001b[39m.\u001b[39;49mencoding,\n\u001b[0;32m    <a href='file:///~/AppData/Local/Packages/PythonSoftwareFoundation.Python.3.9_qbz5n2kfra8p0/LocalCache/local-packages/Python39/site-packages/pandas/io/common.py?line=792'>793</a>\u001b[0m             errors\u001b[39m=\u001b[39;49merrors,\n\u001b[0;32m    <a href='file:///~/AppData/Local/Packages/PythonSoftwareFoundation.Python.3.9_qbz5n2kfra8p0/LocalCache/local-packages/Python39/site-packages/pandas/io/common.py?line=793'>794</a>\u001b[0m             newline\u001b[39m=\u001b[39;49m\u001b[39m\"\u001b[39;49m\u001b[39m\"\u001b[39;49m,\n\u001b[0;32m    <a href='file:///~/AppData/Local/Packages/PythonSoftwareFoundation.Python.3.9_qbz5n2kfra8p0/LocalCache/local-packages/Python39/site-packages/pandas/io/common.py?line=794'>795</a>\u001b[0m         )\n\u001b[0;32m    <a href='file:///~/AppData/Local/Packages/PythonSoftwareFoundation.Python.3.9_qbz5n2kfra8p0/LocalCache/local-packages/Python39/site-packages/pandas/io/common.py?line=795'>796</a>\u001b[0m     \u001b[39melse\u001b[39;00m:\n\u001b[0;32m    <a href='file:///~/AppData/Local/Packages/PythonSoftwareFoundation.Python.3.9_qbz5n2kfra8p0/LocalCache/local-packages/Python39/site-packages/pandas/io/common.py?line=796'>797</a>\u001b[0m         \u001b[39m# Binary mode\u001b[39;00m\n\u001b[0;32m    <a href='file:///~/AppData/Local/Packages/PythonSoftwareFoundation.Python.3.9_qbz5n2kfra8p0/LocalCache/local-packages/Python39/site-packages/pandas/io/common.py?line=797'>798</a>\u001b[0m         handle \u001b[39m=\u001b[39m \u001b[39mopen\u001b[39m(handle, ioargs\u001b[39m.\u001b[39mmode)\n",
      "\u001b[1;31mFileNotFoundError\u001b[0m: [Errno 2] No such file or directory: 'mb1.csv'"
     ]
    }
   ],
   "source": [
    "def finalcount(t,lambdaa,N0):\n",
    "    \"\"\"This acts as documentation for the function to help yourself or another reader use the function. It is a good habit to comment your code.\n",
    "    Input arguments: \n",
    "    t       = time\n",
    "    lambdaa = decay rate of element\n",
    "    N0      = Initial number of atoms\n",
    "    Outputs: Final number of atoms after decay \"\"\"\n",
    "    return N0 * np.exp(-lambdaa*t)\n",
    "\n",
    "# Or another example\n",
    "def xsquared(x):\n",
    "    \"\"\"Squares whatever input value x you give\"\"\"\n",
    "    return x**2\n",
    "#print(np.std(a[:,1]))\n",
    "\n",
    "##\n",
    "##\n",
    "#xBarMetal1  = [-2, -1.5, -1.8, -1.8, -1.6, -2.2, -2.1, -2.85, -1.8, -1.7, -2.3, -2.2, -1.8, -1.4, -1.9, -2.15, -1.6, -1.85, -1.7, -01.9]\n",
    "#print(\"\\n X_bar metall ball 1 = \" + str(np.mean(xBarMetal1)))\n",
    "#print(\"x_stdv metall ball 1 = \" + str(np.std(xBarMetal1)))\n",
    "\n",
    "#zBarMetal1 = [-0.7, -0.4, 0, -0.4, -0.4, 0, -0.2, -0.5, 0, 0, 0.3, 0, .2, 0, .1, 0.2, 0.4, 0.5, 0.5, 0.5, 0.6, 0.7]\n",
    "#print(\"z_bar metall ball 1 = \" + str(np.mean(zBarMetal1)))\n",
    "#print(\"z_stdv metall ball 1 = \" + str(np.std(zBarMetal1)))\n",
    "##\n",
    "##\n",
    "\n",
    "\n",
    "print(\"\")\n",
    "##\n",
    "##\n",
    "mb1 = pd.read_csv(\"mb1.csv\")\n",
    "xBarMetal1 = mb1[\"x\"]\n",
    "semMb1x = pd.DataFrame(xBarMetal1).sem()\n",
    "\n",
    "zBarMetal1 = mb1[\"z\"]\n",
    "semMb1z = pd.DataFrame(zBarMetal1).sem()\n",
    "print(\"\\n X_bar metal ball 1 = \" + str(np.mean(xBarMetal1)))\n",
    "print(\"x_stdmean metal ball 1 = \" + str(semMb1x))\n",
    "\n",
    "print(\"z_bar metal ball 1 = \" + str(np.mean(zBarMetal1)))\n",
    "print(\"z_stdmean metal ball 1 = \" + str(semMb1z))\n",
    "\n",
    "##\n",
    "print('')\n",
    "\n",
    "mb2 = pd.read_csv(\"mb2.csv\")\n",
    "xBarMetal2 = mb2[\"x\"]\n",
    "semMb2x = pd.DataFrame(xBarMetal2).sem()\n",
    "\n",
    "zBarMetal2 = mb2[\"z\"]\n",
    "semMb2z = pd.DataFrame(zBarMetal2).sem()\n",
    "print(\"\\n X_bar metal ball 2 = \" + str(np.mean(xBarMetal2)))\n",
    "print(\"x_stdmean metal ball 2 = \" + str(semMb2x))\n",
    "\n",
    "print(\"z_bar metal ball 2 = \" + str(np.mean(zBarMetal2)))\n",
    "print(\"z_stdmean metal ball 2 = \" + str(semMb2z))\n",
    "\n",
    "\n",
    "\n",
    "print(\"\")\n",
    "##\n",
    "##\n",
    "pb1 = pd.read_csv(\"pb1.csv\")\n",
    "xBarPlastic1 = pb1[\"x\"]\n",
    "semPb1x = pd.DataFrame(xBarPlastic1).sem()\n",
    "\n",
    "zBarPlastic1 = pb1[\"z\"]\n",
    "semPb1z = pd.DataFrame(zBarPlastic1).sem()\n",
    "\n",
    "print(\"\\n X_bar plastic ball 1 = \" + str(np.mean(xBarPlastic1)))\n",
    "print(\"x_stdmean plastic ball 1 = \" + str(semPb1x))\n",
    "\n",
    "print(\"z_bar plastic ball 1 = \" + str(np.mean(zBarPlastic1)))\n",
    "print(\"z_stdmean plastic ball 1 = \" + str(semPb1z))\n",
    "\n",
    "\n",
    "print(\"\")\n",
    "##\n",
    "##\n",
    "pb2 = pd.read_csv(\"pb2.csv\")\n",
    "xBarPlastic2 = pb2[\"x\"]\n",
    "semPb2x = pd.DataFrame(xBarPlastic2).sem()\n",
    "\n",
    "zBarPlastic2 = pb2[\"z\"]\n",
    "semPb2z = pd.DataFrame(zBarPlastic2).sem()\n",
    "\n",
    "print(\"\\n X_bar plastic ball 2 = \" + str(np.mean(xBarPlastic2)))\n",
    "print(\"x_stdmean plastic ball 2 = \" + str(semPb2x))\n",
    "\n",
    "print(\"z_bar plastic ball 2 = \" + str(np.mean(zBarPlastic2)))\n",
    "print(\"z_stdmean plastic ball 2 = \" + str(semPb2z))\n",
    "\n",
    "\n",
    "\n",
    "#N = finalcount(60,10**-5,10**6)\n",
    "#print('')\n",
    "#print ('Final result using the function I wrote:',N)"
   ]
  },
  {
   "cell_type": "code",
   "execution_count": null,
   "metadata": {},
   "outputs": [],
   "source": []
  },
  {
   "cell_type": "markdown",
   "metadata": {},
   "source": [
    "## Array and Lists\n",
    "\n",
    "Often, you will not want to calculate individual data points, but by writing them into an array, you can operate on them all with one line of code.\n",
    "\n",
    "There are various operations you can do on them as well, like calling single elements, or a row of code."
   ]
  },
  {
   "cell_type": "code",
   "execution_count": null,
   "metadata": {},
   "outputs": [],
   "source": [
    "a = np.array([[1, 3.5, 4.5],[2,5.5,3]])\n",
    "\n",
    "print('My variable as has been saved as a -->', a)\n",
    "print('I can apply functions to this variable, like the exponential function to it: np.exp(a)) -->', np.exp(a)) # Applying exponential function to array\n",
    "\n",
    "## Calling elements in array\n",
    "print('Or I can extract single elements/components of this array: a[0,2] -->',a[0,2]) # Calling single element in array, first row, third column.\n",
    "print('Or even rows using commands: a[0,:] -->',a[0,:],'or a[0] -->',a[0]) # Calls the first row. Note that first is indexed as 0. If you want to call the last element, you can use -1.\n",
    "print('Or even columns using commands: a[:,0] -->',a[:,0]) # Calls the first row. Note that first is indexed as 0. If you want to call the last element, you can use -1.\n"
   ]
  },
  {
   "cell_type": "markdown",
   "metadata": {},
   "source": [
    "## Importing Data\n",
    "\n",
    "Lets say you ran your experiment in your group and saved your data in excel. How would you go about importing it to Python 3 so you can do your data analysis and plotting?\n",
    "\n",
    "First is to convert your file into .csv format, and move it into the same directory as the Juypter Notebook you are using for your analysis.\n",
    "\n",
    "For ease, make sure you have 'SampleDataset.csv' in the same directory as your jupyter notebook."
   ]
  },
  {
   "cell_type": "code",
   "execution_count": null,
   "metadata": {},
   "outputs": [],
   "source": [
    "# data = np.array(np.genfromtxt('SampleDataset.csv', delimiter='')) \n",
    "data = pandas.read_csv('SampleDataset.csv') # genfromtxt extracts data as a DataFrame, you will want to convert it into arrays for convenience.\n",
    "\n",
    "print('This is the data you have extracted from your .csv file:',data) # Note the data is in a DataFrame format currently\n",
    "\n",
    "data1 = data.values  # Extracts only the values of interest\n",
    "print('Because I want to perform numerical operations only in the columns, I need to take out the numbers in a list/array:',data1)\n",
    "print('Now it is in a 2D list.')"
   ]
  },
  {
   "cell_type": "code",
   "execution_count": null,
   "metadata": {},
   "outputs": [],
   "source": [
    "data = np.transpose(data1)  # If you just want the array which contains all x data points, and y data points\n",
    "print('This is the 2D array of x and y data values:',data,'\\n To get the x and y values you will have to break them up.')\n",
    "\n",
    "xdata = np.array(data[0])\n",
    "print('This is the array of x data values:', xdata)\n",
    "\n",
    "ydata = np.array(data[1])\n",
    "print('This is the array of y data values:', ydata)\n"
   ]
  },
  {
   "cell_type": "markdown",
   "metadata": {},
   "source": [
    "## Plotting functions\n",
    "\n",
    "Now lets say we want to plot some function"
   ]
  },
  {
   "cell_type": "code",
   "execution_count": null,
   "metadata": {},
   "outputs": [],
   "source": [
    "## For the purpose of this notebook, if you can't use the import function, you can remove the comment below to run the code\n",
    "# data = [[0.1,0.2,0.3,0.4,0.5,0.6,0.7,0.8,0.9],[2.,2.,0.,-4.,-10.,-18.,-28.,-40.,-54.]]\n",
    "\n",
    "# Separating into x and y lists, and converting to arrays\n",
    "xdata = np.array(data[0])\n",
    "ydata = np.array(data[1])\n",
    "\n",
    "print(xdata)\n",
    "print(ydata)\n",
    "\n",
    "ydata = xsquared(ydata)\n",
    "\n",
    "print(ydata) # List is now squared as defined by the function\n",
    "\n",
    "## Plotting\n",
    "plt.plot(xdata,ydata)\n",
    "plt.show()"
   ]
  },
  {
   "cell_type": "markdown",
   "metadata": {},
   "source": [
    "## Making the plot look nicer and including error bars"
   ]
  },
  {
   "cell_type": "code",
   "execution_count": null,
   "metadata": {},
   "outputs": [],
   "source": [
    "yerror = [10,20,30,40,50,60,70,80,100]\n",
    "\n",
    "# Sets plot size \n",
    "plt.figure(figsize=(10,10))\n",
    "\n",
    "# Using different function, and defining marker and error bar colors, size etc..\n",
    "plt.errorbar(xdata, ydata, yerror, marker='x', ecolor='black',mec='red', linestyle='None',ms=4, mew=4) \n",
    "\n",
    "# Labels axis\n",
    "plt.xlabel('xaxisname (m)')\n",
    "plt.ylabel('yaxisname (m$s^{-1}$)')\n",
    "\n",
    "plt.title('My title')\n",
    "plt.show()\n",
    "## The customization options are only limited by your imagination"
   ]
  },
  {
   "cell_type": "markdown",
   "metadata": {},
   "source": [
    "## Least Squares Fit\n",
    "\n",
    "Now to the core of data analysis. The Least Squares Fit function is done by the scipy.optimization.curve_fit function.\n",
    "\n",
    "Suppose we want to fit 'xdata' and 'ydata' with weights given by 'yerror' and we want to use a quadratic function. You can do that in the following way:"
   ]
  },
  {
   "cell_type": "code",
   "execution_count": null,
   "metadata": {},
   "outputs": [],
   "source": [
    "# Generating sample data\n",
    "xdata = np.array([0.0,1.0,2.0,3.0,4.0,5.0])\n",
    "ydata = np.array([0.1,0.9,2.2,2.8,3.9,5.1])\n",
    "yerror= np.array([1.0,1.0,1.0,1.0,1.0,1.0])\n",
    "\n",
    "# Initial Guess \n",
    "x0 = np.array([0.0, 0.0, 0.0])\n",
    "\n",
    "# Define quadratic function for fitting,\n",
    "def func(x, a, b, c):\n",
    "    return a + b*x + c*x**2\n",
    "\n",
    "import scipy.optimize as opt\n",
    "pars, w = opt.curve_fit(func, xdata, ydata, x0, yerror) # Note the arguments you need\n",
    "\n",
    "print(\"Estimated parameters\", pars)"
   ]
  },
  {
   "cell_type": "markdown",
   "metadata": {},
   "source": [
    "It is always a good habit to superimpose your fit over your original data points."
   ]
  },
  {
   "cell_type": "code",
   "execution_count": null,
   "metadata": {},
   "outputs": [],
   "source": [
    "# Model Fit\n",
    "yfit = func(xdata,*pars)\n",
    "\n",
    "plt.figure(figsize=(8,5))\n",
    "plt.errorbar(xdata, ydata, yerror, marker='x', ecolor='black',mec='red', linestyle='None',ms=4, mew=4, label=\"Data\")\n",
    "plt.plot(xdata,yfit,label=\"Fit\")\n",
    "plt.xlabel('xaxisname (m)')\n",
    "plt.ylabel('yaxisname (m$s^{-1}$)')\n",
    "plt.legend(loc='best')\n",
    "\n",
    "plt.title('My title')\n",
    "\n",
    "## The customization options are only limited by your imagination"
   ]
  },
  {
   "cell_type": "markdown",
   "metadata": {},
   "source": [
    "Disclaimer: The methods I have demonstrated above are an example of one of the ways you can go about all these operations, but they are not exhaustive. Should you find an alternative method, feel free to use it! Learning scientific programming is not a science but an art.\n",
    "\n",
    "Many problems that you will encounter have been solved before, a good resource you should consider asking is stackoverflow.com and google."
   ]
  },
  {
   "cell_type": "code",
   "execution_count": null,
   "metadata": {},
   "outputs": [],
   "source": []
  }
 ],
 "metadata": {
  "kernelspec": {
   "display_name": "Python 3",
   "language": "python",
   "name": "python3"
  },
  "language_info": {
   "codemirror_mode": {
    "name": "ipython",
    "version": 3
   },
   "file_extension": ".py",
   "mimetype": "text/x-python",
   "name": "python",
   "nbconvert_exporter": "python",
   "pygments_lexer": "ipython3",
   "version": "3.9.10"
  }
 },
 "nbformat": 4,
 "nbformat_minor": 2
}
